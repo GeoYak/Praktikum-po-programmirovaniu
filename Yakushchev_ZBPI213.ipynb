{
 "cells": [
  {
   "cell_type": "code",
   "execution_count": 3,
   "id": "966a4742",
   "metadata": {},
   "outputs": [
    {
     "name": "stdout",
     "output_type": "stream",
     "text": [
      "Введите число: 5\n",
      "Факториал числа равен: 120\n"
     ]
    }
   ],
   "source": [
    "#Задача 1. Напишите рекурсивную функцию fact, которая вычисляет факториал заданного числа x.\n",
    "def fact(n):\n",
    "    if (n <= 1):\n",
    "        return 1\n",
    "    else:\n",
    "        return (n * fact(n-1))\n",
    "n = int(input(\"Введите число: \"))\n",
    "print(\"Факториал числа равен:\",fact(n))\n"
   ]
  },
  {
   "cell_type": "code",
   "execution_count": 21,
   "id": "bf45d165",
   "metadata": {},
   "outputs": [
    {
     "name": "stdout",
     "output_type": "stream",
     "text": [
      "[4, 6, 2, 20, 34]\n"
     ]
    }
   ],
   "source": [
    "#Задача 2. Создайте функцию filter_even, которая принимает на вход список целых чисел, и фильтруя, возвращает список, содержащий только четные числа. Используйте filter для фильтрации и lambda.\n",
    "print(list(filter(lambda li: li % 2 == 0, [1, 4, 6, 3, 2, 5, 20, 21, 34, 29, 45])))"
   ]
  },
  {
   "cell_type": "code",
   "execution_count": 1,
   "id": "e4ba5111",
   "metadata": {},
   "outputs": [
    {
     "name": "stdout",
     "output_type": "stream",
     "text": [
      "[1, 9, 36, 64, 4]\n"
     ]
    }
   ],
   "source": [
    "#Задача 3.Напишите функцию square ,которая принимает на вход список целых чисел и возвращает список с возведенными в квадрат элементами. Используйте map.\n",
    "def square(li):\n",
    "    res = list(map(lambda x: x*x, li))\n",
    "    return res\n",
    "li=[1,3,6,8,2]\n",
    "print(square(li))"
   ]
  },
  {
   "cell_type": "code",
   "execution_count": null,
   "id": "ea9676f0",
   "metadata": {},
   "outputs": [],
   "source": [
    "#Задача 4. Напишите функцию бинарного поиска bin_search, которая принимает на вход отсортированный список и элемент. Функция должна возвращать индекс искомого элемента в списке.\n",
    "def bin_search(list, n):\n",
    "    start = 0\n",
    "    end = len(list)\n",
    "    while start <= end:\n",
    "        mid = (start+end)//2\n",
    "        if list[mid] == n:\n",
    "            return mid\n",
    "        if n < list[mid]:\n",
    "            end = mid-1\n",
    "        else:\n",
    "            start = mid+1\n",
    "    return -1\n",
    " \n",
    "print(bin_search([2, 5, 7, 9, 11, 17, 222], 11))\n",
    "print(bin_search([2, 5, 7, 9, 11, 17, 222], 12))\n"
   ]
  },
  {
   "cell_type": "code",
   "execution_count": 17,
   "id": "f57a7eb4",
   "metadata": {},
   "outputs": [
    {
     "name": "stdout",
     "output_type": "stream",
     "text": [
      "YES\n"
     ]
    }
   ],
   "source": [
    "#Задача 5. Напишите функцию is_palindrome определяющую,является ли строка палиндромом.\n",
    "def is_palindrome(string):\n",
    "    reversed_string = \"\"\n",
    "    forbidden = (',', '.', '!', '?', ';', ':', '-',\"'\",\"'\")\n",
    "    s = string.replace(\" \",\"\")\n",
    "    s = s.lower()\n",
    "    for i in s:\n",
    "        if i in forbidden:\n",
    "            s = s.replace(i, '')\n",
    "    for i in range(len(s), 0, -1):\n",
    "        reversed_string += s[i-1]\n",
    "    if s == reversed_string:\n",
    "        print('YES')\n",
    "    else:\n",
    "        print('NO')        \n",
    "string=\"Madam, I'm Adam\"\n",
    "is_palindrome(string)            "
   ]
  },
  {
   "cell_type": "code",
   "execution_count": null,
   "id": "f206b356",
   "metadata": {},
   "outputs": [],
   "source": [
    "#Задача 6. Написать функцию calculate, "
   ]
  }
 ],
 "metadata": {
  "kernelspec": {
   "display_name": "Python 3",
   "language": "python",
   "name": "python3"
  },
  "language_info": {
   "codemirror_mode": {
    "name": "ipython",
    "version": 3
   },
   "file_extension": ".py",
   "mimetype": "text/x-python",
   "name": "python",
   "nbconvert_exporter": "python",
   "pygments_lexer": "ipython3",
   "version": "3.8.8"
  }
 },
 "nbformat": 4,
 "nbformat_minor": 5
}
